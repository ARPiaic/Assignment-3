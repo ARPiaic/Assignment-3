{
 "cells": [
  {
   "cell_type": "markdown",
   "metadata": {},
   "source": [
    "<h3>Q no 1:  Write a python program to find number of occurrences of given number in a list with out using built-in methods</h3>\n",
    "<h4>**1 generate a list of some random num which is repeated again and again</h4>\n",
    "<h4>**2 take user input any number</h4>\n",
    "<h4>**3 find the number of occurrences of that num in your list</h4>\n",
    "<h4>**4 print some message to user with that result</h4>"
   ]
  },
  {
   "cell_type": "code",
   "execution_count": 2,
   "metadata": {},
   "outputs": [
    {
     "name": "stdout",
     "output_type": "stream",
     "text": [
      "enter any number..4\n",
      "number of occurrences of number 4 is 5\n"
     ]
    }
   ],
   "source": [
    "numbers=[1,2,3,4,5,6,4,5,6,7,3,4,3,4,2,2,3,4,8,9,0]\n",
    "num=int(input(\"enter any number..\"))\n",
    "list(numbers)\n",
    "count=0;\n",
    "for i in range(0,len(numbers),1):\n",
    "    if numbers[i]==num:\n",
    "        count+=1;\n",
    "print(\"number of occurrences of number \"+str(num)+\" is \"+str(count))"
   ]
  },
  {
   "cell_type": "code",
   "execution_count": null,
   "metadata": {},
   "outputs": [],
   "source": []
  },
  {
   "cell_type": "markdown",
   "metadata": {},
   "source": [
    "<h3>Q no 2:   [\"www.zframez.com\", \"www.wikipedia.org\", \"www.asp.net\", \"www.abcd.in\"]\n",
    "<br/><br/><br/><br/><br/>\n",
    "Write a python program to print website suffixes (com , org , net ,in) from this list\n",
    "\n",
    "Hint : Use split() method to perform this task\n",
    "</h3>\n"
   ]
  },
  {
   "cell_type": "code",
   "execution_count": 3,
   "metadata": {},
   "outputs": [
    {
     "name": "stdout",
     "output_type": "stream",
     "text": [
      "com\n",
      "org\n",
      "net\n",
      "in\n"
     ]
    }
   ],
   "source": [
    "MyDomains=[\"www.zframez.com\", \"www.wikipedia.org\", \"www.asp.net\", \"www.abcd.in\"]\n",
    "for i in range(0,4):\n",
    "    print(MyDomains[i].split(\".\")[2])"
   ]
  },
  {
   "cell_type": "code",
   "execution_count": null,
   "metadata": {},
   "outputs": [],
   "source": []
  },
  {
   "cell_type": "markdown",
   "metadata": {},
   "source": [
    "<h3> Q no 3 : Write a program which can compute the factorial of a given numbers.</h3>\n",
    "<br/>\n",
    "<br/>\n",
    "<h4>**1 first take user input any number</h4>\n",
    "<h4>**2 calculate factorial of that input and then print the result to user</h4>"
   ]
  },
  {
   "cell_type": "code",
   "execution_count": 4,
   "metadata": {},
   "outputs": [
    {
     "name": "stdout",
     "output_type": "stream",
     "text": [
      "enter any number to find factorial...5\n",
      "factorial of given number is  120\n"
     ]
    }
   ],
   "source": [
    "num2=int(input(\"enter any number to find factorial...\"))\n",
    "fac=1;\n",
    "for i in range(1,num2+1,1):\n",
    "    fac*=i\n",
    "print(\"factorial of given number is \",fac)"
   ]
  },
  {
   "cell_type": "code",
   "execution_count": null,
   "metadata": {},
   "outputs": [],
   "source": []
  },
  {
   "cell_type": "code",
   "execution_count": null,
   "metadata": {},
   "outputs": [],
   "source": []
  },
  {
   "cell_type": "code",
   "execution_count": null,
   "metadata": {},
   "outputs": [],
   "source": []
  },
  {
   "cell_type": "markdown",
   "metadata": {},
   "source": [
    "<h3>Q 4 (a) :  If you could invite anyone, living or deceased, to dinner, who\n",
    "would you invite? Make a list that includes at least three people you’d like to\n",
    "invite to dinner. Then use your list to print a message to each person, inviting\n",
    "them to dinner.</h3>"
   ]
  },
  {
   "cell_type": "code",
   "execution_count": 11,
   "metadata": {},
   "outputs": [
    {
     "name": "stdout",
     "output_type": "stream",
     "text": [
      "Mr. Abdul Rafay,\n",
      "\tCordially invite you for Iftar party.\n",
      "On june 25th \n",
      "At 7 pm at Koffie Chalet \n",
      "Kind regards\n",
      "\n",
      "Mr. Farhan Ali,\n",
      "\tCordially invite you for Iftar party.\n",
      "On june 25th \n",
      "At 7 pm at Koffie Chalet \n",
      "Kind regards\n",
      "\n",
      "Mr. Ramiz Rao,\n",
      "\tCordially invite you for Iftar party.\n",
      "On june 25th \n",
      "At 7 pm at Koffie Chalet \n",
      "Kind regards\n",
      "\n"
     ]
    }
   ],
   "source": [
    "Names=[\"Abdul Rafay\",\"Farhan Ali\",\"Ramiz Rao\"]\n",
    "for i in range(0,len(Names)):\n",
    "    print(\"Mr. \"+Names[i]+\",\\n\\tCordially invite you for Iftar party.\")\n",
    "    print(\"On june 25th \\nAt 7 pm at Koffie Chalet \\nKind regards\\n\")"
   ]
  },
  {
   "cell_type": "code",
   "execution_count": null,
   "metadata": {},
   "outputs": [],
   "source": []
  },
  {
   "cell_type": "code",
   "execution_count": null,
   "metadata": {},
   "outputs": [],
   "source": []
  },
  {
   "cell_type": "markdown",
   "metadata": {},
   "source": [
    "<h3>Q 4 (b) : You just heard that one of your guests can’t make the\n",
    "dinner, so you need to send out a new set of invitations. You’ll have to think of\n",
    "someone else to invite.<br/></br><br/>\n",
    "•\t Start with your program from Q 4 (a). Add a print statement at the\n",
    "end of your program stating the name of the guest who can’t make it.<br/></br><br/>\n",
    "•\t Modify your list, replacing the name of the guest who can’t make it with\n",
    "the name of the new person you are inviting.<br/></br><br/>\n",
    "•\t Print a second set of invitation messages, one for each person who is still\n",
    "in your list.<br/></br><br/></h3>"
   ]
  },
  {
   "cell_type": "code",
   "execution_count": 12,
   "metadata": {},
   "outputs": [
    {
     "name": "stdout",
     "output_type": "stream",
     "text": [
      "Mr. Abdul Rafay can not have dinner with us\n"
     ]
    }
   ],
   "source": [
    "print(\"Mr. \"+Names[0]+\" can not have dinner with us\")"
   ]
  },
  {
   "cell_type": "code",
   "execution_count": 18,
   "metadata": {},
   "outputs": [
    {
     "name": "stdout",
     "output_type": "stream",
     "text": [
      "Mr. Junaid,\n",
      "\tCordially invite you for dinner party.\n",
      "On june 26 \n",
      "At 7:00 pm at his house \n",
      "Thanks in advance\n",
      "\n",
      "Mr. Farhan Ali,\n",
      "\tCordially invite you for dinner party.\n",
      "On june 26 \n",
      "At 7:00 pm at his house \n",
      "Thanks in advance\n",
      "\n",
      "Mr. Ramiz Rao,\n",
      "\tCordially invite you for dinner party.\n",
      "On june 26 \n",
      "At 7:00 pm at his house \n",
      "Thanks in advance\n",
      "\n"
     ]
    }
   ],
   "source": [
    "Names[0]=\"Junaid\"\n",
    "for i in range(0,len(Names)):\n",
    "    print(\"Mr. \"+Names[i]+\",\\n\\tCordially invite you for dinner party.\")\n",
    "    print(\"On june 26 \\nAt 7:00 pm at his house \\nThanks in advance\\n\")"
   ]
  },
  {
   "cell_type": "code",
   "execution_count": null,
   "metadata": {},
   "outputs": [],
   "source": []
  },
  {
   "cell_type": "markdown",
   "metadata": {},
   "source": [
    "<h3>Q 4 (c) : You just found a bigger dinner table, so now more space is\n",
    "available. Think of three more guests to invite to dinner.<br/></br><br/>\n",
    "•\t Start with your program from Q 4 (a) and (b) Add a print\n",
    "statement to the end of your program informing people that you found a\n",
    "bigger dinner table.<br/></br><br/>\n",
    "•\t Use insert() to add one new guest to the beginning of your list.<br/></br><br/>\n",
    "•\t Use insert() to add one new guest to the middle of your list.<br/></br><br/>\n",
    "•\t Use append() to add one new guest to the end of your list.<br/></br><br/>\n",
    "•\t Print a new set of invitation messages, one for each person in your list.<br/></br><br/></h3>"
   ]
  },
  {
   "cell_type": "code",
   "execution_count": 19,
   "metadata": {},
   "outputs": [
    {
     "name": "stdout",
     "output_type": "stream",
     "text": [
      "Dear Friends,\n",
      "\t I am vary happy to say that i just found a bigger dinner table, so now more space is available\n"
     ]
    }
   ],
   "source": [
    "print(\"Dear Friends,\\n\\t I am vary happy to say that i just found a bigger dinner table, so now more space is available\")"
   ]
  },
  {
   "cell_type": "code",
   "execution_count": 20,
   "metadata": {},
   "outputs": [],
   "source": [
    "Names.insert(0,\"Hasnain\")\n",
    "Names.insert(2,\"Tariq Khan Lodhi\")\n",
    "Names.append(\"Sameer Saddiqui\")"
   ]
  },
  {
   "cell_type": "code",
   "execution_count": 21,
   "metadata": {},
   "outputs": [
    {
     "name": "stdout",
     "output_type": "stream",
     "text": [
      "Mr. Hasnain,\n",
      "\tcordially invite you for dinner party The honour of your presence is requested.\n",
      "On june 30th \n",
      "At 9:00 pm in our garden \n",
      "Thanks in advance\n",
      "\n",
      "Mr. Junaid,\n",
      "\tcordially invite you for dinner party The honour of your presence is requested.\n",
      "On june 30th \n",
      "At 9:00 pm in our garden \n",
      "Thanks in advance\n",
      "\n",
      "Mr. Tariq Khan Lodhi,\n",
      "\tcordially invite you for dinner party The honour of your presence is requested.\n",
      "On june 30th \n",
      "At 9:00 pm in our garden \n",
      "Thanks in advance\n",
      "\n",
      "Mr. Farhan Ali,\n",
      "\tcordially invite you for dinner party The honour of your presence is requested.\n",
      "On june 30th \n",
      "At 9:00 pm in our garden \n",
      "Thanks in advance\n",
      "\n",
      "Mr. Ramiz Rao,\n",
      "\tcordially invite you for dinner party The honour of your presence is requested.\n",
      "On june 30th \n",
      "At 9:00 pm in our garden \n",
      "Thanks in advance\n",
      "\n",
      "Mr. Sameer Saddiqui,\n",
      "\tcordially invite you for dinner party The honour of your presence is requested.\n",
      "On june 30th \n",
      "At 9:00 pm in our garden \n",
      "Thanks in advance\n",
      "\n"
     ]
    }
   ],
   "source": [
    "for i in range(0,len(Names)):\n",
    "    print(\"Mr. \"+Names[i]+\",\\n\\tcordially invite you for dinner party The honour of your presence is requested.\")\n",
    "    print(\"On june 30th \\nAt 9:00 pm in our garden \\nThanks in advance\\n\")"
   ]
  },
  {
   "cell_type": "markdown",
   "metadata": {},
   "source": [
    "<h5> Q 5 : Here you have some data in variable below, your task is to make a list of specific word Surah then print the list and length of list</h5>\n"
   ]
  },
  {
   "cell_type": "code",
   "execution_count": 22,
   "metadata": {},
   "outputs": [
    {
     "name": "stdout",
     "output_type": "stream",
     "text": [
      "['Surah', 'Surah', 'Surah']\n",
      "length of list is  3\n"
     ]
    }
   ],
   "source": [
    "str=\"Surah | who believe in the unseen, Surah Are steadfast in prayer. And spend Surah out of what we have provided for them\";\n",
    "lst=str.split(' ')\n",
    "lst2=[]\n",
    "for i in lst:\n",
    "    if i==\"Surah\":\n",
    "        lst2.append(i)\n",
    "print(lst2)\n",
    "print(\"length of list is \",len(lst2))"
   ]
  },
  {
   "cell_type": "code",
   "execution_count": null,
   "metadata": {},
   "outputs": [],
   "source": []
  },
  {
   "cell_type": "markdown",
   "metadata": {},
   "source": [
    " <h3>Q no 6 : You have some name of cities in list named cities, Your task is to check whether Karachi is present in this list or not, if present print the index where the value Karachi is present</h3>"
   ]
  },
  {
   "cell_type": "code",
   "execution_count": 23,
   "metadata": {},
   "outputs": [
    {
     "name": "stdout",
     "output_type": "stream",
     "text": [
      "City Karachi Exist at  0  Index\n"
     ]
    }
   ],
   "source": [
    "cities=[\"Karachi\",\"hyderabad\",\"islamabad\"]\n",
    "IsExist=False\n",
    "for i in range(0,len(cities)):\n",
    "    if cities[i]==\"Karachi\":\n",
    "        print(\"City Karachi Exist at \",i,\" Index\")\n",
    "        IsExist=True\n",
    "if not IsExist:\n",
    "    print(\"City Karachi not exist in list\")"
   ]
  },
  {
   "cell_type": "code",
   "execution_count": null,
   "metadata": {},
   "outputs": [],
   "source": []
  },
  {
   "cell_type": "code",
   "execution_count": null,
   "metadata": {},
   "outputs": [],
   "source": []
  }
 ],
 "metadata": {
  "kernelspec": {
   "display_name": "Python 3",
   "language": "python",
   "name": "python3"
  },
  "language_info": {
   "codemirror_mode": {
    "name": "ipython",
    "version": 3
   },
   "file_extension": ".py",
   "mimetype": "text/x-python",
   "name": "python",
   "nbconvert_exporter": "python",
   "pygments_lexer": "ipython3",
   "version": "3.7.3"
  }
 },
 "nbformat": 4,
 "nbformat_minor": 2
}
